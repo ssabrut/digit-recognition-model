{
 "cells": [
  {
   "cell_type": "markdown",
   "id": "e6991a0a",
   "metadata": {},
   "source": [
    "### Prepare the Dataset"
   ]
  },
  {
   "cell_type": "code",
   "execution_count": 1,
   "id": "5a91985f",
   "metadata": {},
   "outputs": [],
   "source": [
    "from tensorflow.keras.datasets import fashion_mnist\n",
    "from sklearn.model_selection import train_test_split\n",
    "\n",
    "# load the dataset\n",
    "(train_images, train_labels), (test_images, test_labels) = fashion_mnist.load_data()\n",
    "\n",
    "# split to test and validation\n",
    "test_images, val_images, test_labels, val_labels = train_test_split(test_images, test_labels, test_size=.5, random_state=0)\n",
    "\n",
    "# prepare train and test sets\n",
    "train_images = train_images.astype('float32')\n",
    "val_images = val_images.astype('float32')\n",
    "test_images = test_images.astype('float32')\n",
    "\n",
    "# normalize values\n",
    "train_images = train_images / 255.\n",
    "val_images = val_images / 255.\n",
    "test_images = test_images / 255."
   ]
  },
  {
   "cell_type": "code",
   "execution_count": 2,
   "id": "356a8a21",
   "metadata": {},
   "outputs": [],
   "source": [
    "label_mapper = {\n",
    "    0: 'T-shirt/top',\n",
    "    1: 'Trouser',\n",
    "    2: 'Pullover',\n",
    "    3: 'Dress',\n",
    "    4: 'Coat',\n",
    "    5: 'Sandal',\n",
    "    6: 'Shirt',\n",
    "    7: 'Sneaker',\n",
    "    8: 'Bag',\n",
    "    9: 'Ankle boot'\n",
    "}"
   ]
  },
  {
   "cell_type": "markdown",
   "id": "1b93208f",
   "metadata": {},
   "source": [
    "### Visualize the Dataset"
   ]
  },
  {
   "cell_type": "code",
   "execution_count": 3,
   "id": "cb28b4f9",
   "metadata": {},
   "outputs": [
    {
     "data": {
      "image/png": "[encoded data removed]",
      "text/plain": [
       "<Figure size 1440x720 with 10 Axes>"
      ]
     },
     "metadata": {
      "needs_background": "light"
     },
     "output_type": "display_data"
    }
   ],
   "source": [
    "from matplotlib import pyplot as plt\n",
    "\n",
    "row = 2\n",
    "col = 5\n",
    "_, axs = plt.subplots(row,col, figsize=(row * 10, col * 2))\n",
    "\n",
    "for i in range(row):\n",
    "    for j in range(col):\n",
    "        temp_image = train_images[i * j]\n",
    "        temp_image *= 255.\n",
    "        axs[i,j].set_title(label_mapper[train_labels[i * j]])\n",
    "        axs[i,j].imshow(temp_image, cmap='gray')\n",
    "        axs[i,j].xaxis.set_visible(False)\n",
    "        axs[i,j].yaxis.set_visible(False)\n",
    "        del temp_image\n",
    "plt.show()"
   ]
  },
  {
   "cell_type": "markdown",
   "id": "007bd98e",
   "metadata": {},
   "source": [
    "### Prepare the Dataset"
   ]
  },
  {
   "cell_type": "code",
   "execution_count": 4,
   "id": "911d6bd6",
   "metadata": {},
   "outputs": [],
   "source": [
    "import random\n",
    "import numpy as np\n",
    "\n",
    "def create_pairs(images, labels):\n",
    "    \"\"\"\n",
    "    Create a positive and negative pair images\n",
    "    \n",
    "    Parameter\n",
    "    ----------\n",
    "    images: numpy array of images\n",
    "    labels: numpy array of labels\n",
    "    \n",
    "    Return\n",
    "    ----------\n",
    "    pair_images: numpy array of random paired image\n",
    "    pair_labels: numpy array of binary value (1 is positive, 0 is negative)\n",
    "    \"\"\"\n",
    "    \n",
    "    pair_images, pair_labels = [], []\n",
    "    n = min([len(labels[l]) for l in range(10)]) - 1\n",
    "    \n",
    "    for l in range(10):\n",
    "        for i in range(n):\n",
    "            # create positive pair image\n",
    "            z1, z2 = labels[l][i], labels[l][i + 1]\n",
    "            pair_images += [[images[z1], images[z2]]]\n",
    "            \n",
    "            inc = random.randrange(1, 10)\n",
    "            dn = (l + inc) % 10\n",
    "            \n",
    "            # create negative pair image\n",
    "            z1, z2 = labels[l][i], labels[dn][i]\n",
    "            pair_images += [[images[z1], images[z2]]]\n",
    "            pair_labels += [1,0]\n",
    "    return np.array(pair_images), np.array(pair_labels)\n",
    "\n",
    "def create_pairs_on_set(images, labels):\n",
    "    \"\"\"\n",
    "    Create a set for training data\n",
    "    \n",
    "    Parameter\n",
    "    ----------\n",
    "    images: numpy array of images\n",
    "    labels: numpy array of labels\n",
    "    \n",
    "    Return\n",
    "    ----------\n",
    "    pairs: numpy array of random paired image\n",
    "    y: numpy array of binary value (1 is positive, 0 is negative)\n",
    "    \"\"\"\n",
    "    \n",
    "    digit = [np.where(labels == i)[0] for i in range(10)]\n",
    "    pairs, y = create_pairs(images, digit)\n",
    "    y = y.astype('float32')\n",
    "    return pairs, y"
   ]
  },
  {
   "cell_type": "code",
   "execution_count": 5,
   "id": "eccce85d",
   "metadata": {},
   "outputs": [],
   "source": [
    "# create pairs on train, validation and test sets\n",
    "train_image_pairs, train_label_pairs = create_pairs_on_set(train_images, train_labels)\n",
    "val_image_pairs, val_label_pairs = create_pairs_on_set(val_images, val_labels)\n",
    "test_image_pairs, test_label_pairs = create_pairs_on_set(test_images, test_labels)"
   ]
  },
  {
   "cell_type": "code",
   "execution_count": 6,
   "id": "ce9b2ceb",
   "metadata": {},
   "outputs": [],
   "source": [
    "def show_image(anchor_image, image):\n",
    "    \"\"\"\n",
    "    Display pair data\n",
    "    \n",
    "    Parameter\n",
    "    ----------\n",
    "    image: a set of image pair\n",
    "    ax: an integer for axis\n",
    "    \n",
    "    Return\n",
    "    ----------\n",
    "    None\n",
    "    \"\"\"\n",
    "    \n",
    "    _, axs = plt.subplots(1,2)\n",
    "    axs[0].imshow(anchor_image)\n",
    "    axs[0].grid(False)\n",
    "    axs[1].imshow(image)\n",
    "    axs[1].grid(False)\n",
    "    plt.show()"
   ]
  },
  {
   "cell_type": "code",
   "execution_count": 7,
   "id": "2c07bc41",
   "metadata": {},
   "outputs": [
    {
     "data": {
      "image/png": "[encoded data removed]",
      "text/plain": [
       "<Figure size 432x288 with 2 Axes>"
      ]
     },
     "metadata": {
      "needs_background": "light"
     },
     "output_type": "display_data"
    },
    {
     "name": "stdout",
     "output_type": "stream",
     "text": [
      "The train pair is the same\n"
     ]
    }
   ],
   "source": [
    "# array index\n",
    "index = 0\n",
    "\n",
    "# show images at this index\n",
    "show_image(train_image_pairs[index][0], train_image_pairs[index][1])\n",
    "print('The train pair is', 'the same' if train_label_pairs[index] == 1 else 'not the same')"
   ]
  },
  {
   "cell_type": "code",
   "execution_count": 8,
   "id": "e33c3723",
   "metadata": {},
   "outputs": [
    {
     "data": {
      "image/png": "[encoded data removed]",
      "text/plain": [
       "<Figure size 432x288 with 2 Axes>"
      ]
     },
     "metadata": {
      "needs_background": "light"
     },
     "output_type": "display_data"
    },
    {
     "name": "stdout",
     "output_type": "stream",
     "text": [
      "The validation pair is the same\n"
     ]
    }
   ],
   "source": [
    "show_image(val_image_pairs[index][0], val_image_pairs[index][1])\n",
    "print('The validation pair is', 'the same' if val_label_pairs[index] == 1 else 'not the same')"
   ]
  },
  {
   "cell_type": "code",
   "execution_count": 9,
   "id": "fed2982d",
   "metadata": {},
   "outputs": [
    {
     "data": {
      "image/png": "[encoded data removed]",
      "text/plain": [
       "<Figure size 432x288 with 2 Axes>"
      ]
     },
     "metadata": {
      "needs_background": "light"
     },
     "output_type": "display_data"
    },
    {
     "name": "stdout",
     "output_type": "stream",
     "text": [
      "The test pair is the same\n"
     ]
    }
   ],
   "source": [
    "show_image(test_image_pairs[index][0], test_image_pairs[index][1])\n",
    "print('The test pair is', 'the same' if test_label_pairs[index] == 1 else 'not the same')"
   ]
  },
  {
   "cell_type": "markdown",
   "id": "8ca28d3f",
   "metadata": {},
   "source": [
    "### Develop Base Network"
   ]
  },
  {
   "cell_type": "code",
   "execution_count": 10,
   "id": "93562c5a",
   "metadata": {},
   "outputs": [],
   "source": [
    "from tensorflow import keras\n",
    "from keras import Model\n",
    "from keras import layers\n",
    "from keras.utils.vis_utils import plot_model\n",
    "\n",
    "class BaseNetwork(Model):\n",
    "    def __init__(self):\n",
    "        super(BaseNetwork, self).__init__()\n",
    "        self.flatten = layers.Flatten(name='flatten')\n",
    "        self.d1 = layers.Dropout(.2, name='dropout_1')\n",
    "        self.fc1 = layers.Dense(128, activation='relu', name='fully_1')\n",
    "        self.d2 = layers.Dropout(.2, name='dropout_2')\n",
    "        self.fc2 = layers.Dense(128, activation='relu', name='fully_2')\n",
    "    \n",
    "    def call(self, inputs):\n",
    "        x = self.flatten(inputs)\n",
    "        x = self.d1(x)\n",
    "        x = self.fc1(x)\n",
    "        x = self.d2(x)\n",
    "        return self.fc2(x)\n",
    "\n",
    "base_network = BaseNetwork()"
   ]
  },
  {
   "cell_type": "code",
   "execution_count": 11,
   "id": "384f92bb",
   "metadata": {},
   "outputs": [
    {
     "data": {
      "image/png": "[encoded data removed]",
      "text/plain": [
       "<IPython.core.display.Image object>"
      ]
     },
     "execution_count": 11,
     "metadata": {},
     "output_type": "execute_result"
    }
   ],
   "source": [
    "input_shape = train_images[0].shape\n",
    "inputs = layers.Input(shape=input_shape)\n",
    "\n",
    "# create base model and display model layer\n",
    "output = base_network(inputs)\n",
    "base_model = Model(inputs, output)\n",
    "plot_model(base_model, show_shapes=True, to_file='base-model.png')"
   ]
  },
  {
   "cell_type": "markdown",
   "id": "a08d3818",
   "metadata": {},
   "source": [
    "### Develop Distance Measurement"
   ]
  },
  {
   "cell_type": "code",
   "execution_count": 12,
   "id": "1d3bff05",
   "metadata": {},
   "outputs": [],
   "source": [
    "import keras.backend as K\n",
    "\n",
    "def euclidean(vect):\n",
    "    \"\"\"\n",
    "    Calculate the euclidean distance between vector\n",
    "    \n",
    "    Paramter\n",
    "    ----------\n",
    "    vect: \n",
    "    \n",
    "    Return\n",
    "    ----------\n",
    "    squared root sum:\n",
    "    \"\"\"\n",
    "    \n",
    "    x, y = vect\n",
    "    sum_square = K.sum(K.square(x - y), axis=1, keepdims=True)\n",
    "    return K.sqrt(K.maximum(sum_square, K.epsilon()))\n",
    "\n",
    "def euclidean_output_shape(shapes):\n",
    "    \"\"\"\n",
    "    Get shape of vector\n",
    "    \n",
    "    Paramter\n",
    "    ----------\n",
    "    shapes: shapes of 2 vector\n",
    "    \n",
    "    Return\n",
    "    euclidean output shape: (row from vector 1, 1)\n",
    "    \"\"\"\n",
    "    \n",
    "    shape1, shape2 = shapes\n",
    "    return (shape1[0], 1)"
   ]
  },
  {
   "cell_type": "markdown",
   "id": "173f74d0",
   "metadata": {},
   "source": [
    "### Define Model"
   ]
  },
  {
   "cell_type": "code",
   "execution_count": 13,
   "id": "d0c579ba",
   "metadata": {},
   "outputs": [
    {
     "data": {
      "image/png": "[encoded data removed]",
      "text/plain": [
       "<IPython.core.display.Image object>"
      ]
     },
     "execution_count": 13,
     "metadata": {},
     "output_type": "execute_result"
    }
   ],
   "source": [
    "# define the input and output layer for left network\n",
    "left_input = layers.Input(shape=input_shape, name='left_input')\n",
    "left_output = base_network(left_input)\n",
    "\n",
    "# define the input and output layer for right network\n",
    "right_input = layers.Input(shape=input_shape, name='right_input')\n",
    "right_output = base_network(right_input)\n",
    "\n",
    "# measure similarity between vector\n",
    "output = layers.Lambda(euclidean, name='output_layer', output_shape=euclidean_output_shape)([left_output, right_output])\n",
    "model = Model([left_input, right_input], output)\n",
    "plot_model(model, show_shapes=True, to_file='siamese-model.png')"
   ]
  },
  {
   "cell_type": "markdown",
   "id": "37285984",
   "metadata": {},
   "source": [
    "### Define Contrastive Loss with Margin for Twin Network"
   ]
  },
  {
   "cell_type": "code",
   "execution_count": 14,
   "id": "b5c1b9c3",
   "metadata": {},
   "outputs": [],
   "source": [
    "def contrastive_loss_with_margin(margin):\n",
    "    \"\"\"\n",
    "    Calculate contrastive loss with margin\n",
    "    \n",
    "    Parameter\n",
    "    ----------\n",
    "    margin: constant number [0-1]\n",
    "    \n",
    "    Return\n",
    "    ----------\n",
    "    contrastive_loss: function\n",
    "    \"\"\"\n",
    "    \n",
    "    def contrastive_loss(y_true, y_pred):\n",
    "        \"\"\"\n",
    "        Calculate contrastive loss\n",
    "        \n",
    "        Parameter\n",
    "        ----------\n",
    "        y_true: ground truth label\n",
    "        y_pred: prediction label\n",
    "        \n",
    "        Return\n",
    "        ----------\n",
    "        contrastive loss: (y_true * squared prediction + (1 - y_true) * squared margin)\n",
    "        \"\"\"\n",
    "        \n",
    "        squared_pred = K.square(y_pred)\n",
    "        squared_margin = K.square(K.maximum(margin - y_pred, 0))\n",
    "        return (y_true * squared_pred + (1 - y_true) * squared_margin)\n",
    "    return contrastive_loss"
   ]
  },
  {
   "cell_type": "code",
   "execution_count": 15,
   "id": "d55f8291",
   "metadata": {},
   "outputs": [],
   "source": [
    "optimizer = keras.optimizers.RMSprop()\n",
    "loss = contrastive_loss_with_margin(margin=1)"
   ]
  },
  {
   "cell_type": "code",
   "execution_count": 16,
   "id": "2532e771",
   "metadata": {},
   "outputs": [
    {
     "name": "stdout",
     "output_type": "stream",
     "text": [
      "Model: \"model_1\"\n",
      "__________________________________________________________________________________________________\n",
      " Layer (type)                   Output Shape         Param #     Connected to                     \n",
      "==================================================================================================\n",
      " left_input (InputLayer)        [(None, 28, 28)]     0           []                               \n",
      "                                                                                                  \n",
      " right_input (InputLayer)       [(None, 28, 28)]     0           []                               \n",
      "                                                                                                  \n",
      " base_network (BaseNetwork)     (None, 128)          116992      ['left_input[0][0]',             \n",
      "                                                                  'right_input[0][0]']            \n",
      "                                                                                                  \n",
      " output_layer (Lambda)          (None, 1)            0           ['base_network[1][0]',           \n",
      "                                                                  'base_network[2][0]']           \n",
      "                                                                                                  \n",
      "==================================================================================================\n",
      "Total params: 116,992\n",
      "Trainable params: 116,992\n",
      "Non-trainable params: 0\n",
      "__________________________________________________________________________________________________\n"
     ]
    }
   ],
   "source": [
    "model.compile(loss=loss, optimizer=optimizer)\n",
    "model.summary()"
   ]
  },
  {
   "cell_type": "markdown",
   "id": "d44d7418",
   "metadata": {},
   "source": [
    "### Perform Training"
   ]
  },
  {
   "cell_type": "code",
   "execution_count": 17,
   "id": "c8e5a0b8",
   "metadata": {
    "scrolled": true
   },
   "outputs": [
    {
     "name": "stdout",
     "output_type": "stream",
     "text": [
      "Epoch 1/40\n",
      "938/938 [==============================] - 5s 4ms/step - loss: 293736909401699139977216.0000 - val_loss: 0.0993\n",
      "Epoch 2/40\n",
      "938/938 [==============================] - 4s 4ms/step - loss: 100109849584073904750592.0000 - val_loss: 0.0892\n",
      "Epoch 3/40\n",
      "938/938 [==============================] - 4s 4ms/step - loss: 141806642906865755750400.0000 - val_loss: 0.0840\n",
      "Epoch 4/40\n",
      "938/938 [==============================] - 4s 4ms/step - loss: 167240992018418274140160.0000 - val_loss: 0.0825\n",
      "Epoch 5/40\n",
      "938/938 [==============================] - 4s 4ms/step - loss: 125246997149016989368320.0000 - val_loss: 0.0824\n",
      "Epoch 6/40\n",
      "938/938 [==============================] - 6s 6ms/step - loss: 190089482310325710618624.0000 - val_loss: 0.0798\n",
      "Epoch 7/40\n",
      "938/938 [==============================] - 5s 5ms/step - loss: 269181861095792946708480.0000 - val_loss: 0.0804\n",
      "Epoch 8/40\n",
      "938/938 [==============================] - 4s 5ms/step - loss: 285720502064979657097216.0000 - val_loss: 0.0794\n",
      "Epoch 9/40\n",
      "938/938 [==============================] - 4s 4ms/step - loss: 106600230201457404542976.0000 - val_loss: 0.0801\n",
      "Epoch 10/40\n",
      "938/938 [==============================] - 4s 5ms/step - loss: 178091154312671820513280.0000 - val_loss: 0.0781\n",
      "Epoch 11/40\n",
      "938/938 [==============================] - 5s 5ms/step - loss: 137032647157867935170560.0000 - val_loss: 0.0789\n",
      "Epoch 12/40\n",
      "938/938 [==============================] - 6s 7ms/step - loss: 249861544795163085242368.0000 - val_loss: 0.0782\n",
      "Epoch 13/40\n",
      "938/938 [==============================] - 6s 6ms/step - loss: 110880325186520757567488.0000 - val_loss: 0.0777\n",
      "Epoch 14/40\n",
      "938/938 [==============================] - 5s 5ms/step - loss: 268652850269163498766336.0000 - val_loss: 0.0779\n",
      "Epoch 15/40\n",
      "938/938 [==============================] - 5s 6ms/step - loss: 250354094479209341648896.0000 - val_loss: 0.0764\n",
      "Epoch 16/40\n",
      "938/938 [==============================] - 5s 6ms/step - loss: 258552537312867139977216.0000 - val_loss: 0.0763\n",
      "Epoch 17/40\n",
      "938/938 [==============================] - 4s 5ms/step - loss: 172906502335251848626176.0000 - val_loss: 0.0763\n",
      "Epoch 18/40\n",
      "938/938 [==============================] - 4s 5ms/step - loss: 152512852142630031589376.0000 - val_loss: 0.0761\n",
      "Epoch 19/40\n",
      "938/938 [==============================] - 5s 6ms/step - loss: 92655995884008525266944.0000 - val_loss: 0.0732\n",
      "Epoch 20/40\n",
      "938/938 [==============================] - 5s 6ms/step - loss: 134268031461813263532032.0000 - val_loss: 0.0732\n",
      "Epoch 21/40\n",
      "938/938 [==============================] - 5s 5ms/step - loss: 316029403298009924501504.0000 - val_loss: 0.0742\n",
      "Epoch 22/40\n",
      "938/938 [==============================] - 5s 5ms/step - loss: 149926578991819231592448.0000 - val_loss: 0.0741\n",
      "Epoch 23/40\n",
      "938/938 [==============================] - 4s 5ms/step - loss: 72608145581575097024512.0000 - val_loss: 0.0733\n",
      "Epoch 24/40\n",
      "938/938 [==============================] - 4s 4ms/step - loss: 161395337716489879814144.0000 - val_loss: 0.0746\n",
      "Epoch 25/40\n",
      "938/938 [==============================] - 4s 4ms/step - loss: 64299751866614675406848.0000 - val_loss: 0.0728\n",
      "Epoch 26/40\n",
      "938/938 [==============================] - 4s 4ms/step - loss: 232800882585968605921280.0000 - val_loss: 0.0738\n",
      "Epoch 27/40\n",
      "938/938 [==============================] - 5s 5ms/step - loss: 252299775619022962294784.0000 - val_loss: 0.0725\n",
      "Epoch 28/40\n",
      "938/938 [==============================] - 5s 5ms/step - loss: 250210735895870884020224.0000 - val_loss: 0.0726\n",
      "Epoch 29/40\n",
      "938/938 [==============================] - 6s 6ms/step - loss: 261880985667870088232960.0000 - val_loss: 0.0728\n",
      "Epoch 30/40\n",
      "938/938 [==============================] - 7s 8ms/step - loss: 72075959717208352882688.0000 - val_loss: 0.0723\n",
      "Epoch 31/40\n",
      "938/938 [==============================] - 7s 8ms/step - loss: 93167568772880794648576.0000 - val_loss: 0.0737\n",
      "Epoch 32/40\n",
      "938/938 [==============================] - 7s 7ms/step - loss: 201416035373162508058624.0000 - val_loss: 0.0742\n",
      "Epoch 33/40\n",
      "938/938 [==============================] - 7s 8ms/step - loss: 206337713161141061943296.0000 - val_loss: 0.0727\n",
      "Epoch 34/40\n",
      "938/938 [==============================] - 8s 9ms/step - loss: 115260012773743781740544.0000 - val_loss: 0.0724\n",
      "Epoch 35/40\n",
      "938/938 [==============================] - 6s 6ms/step - loss: 274990711981566469341184.0000 - val_loss: 0.0730\n",
      "Epoch 36/40\n",
      "938/938 [==============================] - 7s 7ms/step - loss: 330829780911821189808128.0000 - val_loss: 0.0724\n",
      "Epoch 37/40\n",
      "938/938 [==============================] - 7s 7ms/step - loss: 223861849815187493748736.0000 - val_loss: 0.0719\n",
      "Epoch 38/40\n",
      "938/938 [==============================] - 6s 6ms/step - loss: 202498376464409204621312.0000 - val_loss: 0.0725\n",
      "Epoch 39/40\n",
      "938/938 [==============================] - 6s 6ms/step - loss: 265296587682861910327296.0000 - val_loss: 0.0745\n",
      "Epoch 40/40\n",
      "938/938 [==============================] - 6s 7ms/step - loss: 463403648265810220154880.0000 - val_loss: 0.0729\n"
     ]
    }
   ],
   "source": [
    "history = model.fit(\n",
    "    [train_image_pairs[:, 0], train_image_pairs[:, 1]],\n",
    "    train_label_pairs,\n",
    "    epochs=40,\n",
    "    batch_size=128,\n",
    "    validation_data=([val_image_pairs[:, 0], val_image_pairs[:, 1]], val_label_pairs)\n",
    ")"
   ]
  },
  {
   "cell_type": "markdown",
   "id": "653adbfa",
   "metadata": {},
   "source": []
  }
 ],
 "metadata": {
  "kernelspec": {
   "display_name": "Python 3 (ipykernel)",
   "language": "python",
   "name": "python3"
  },
  "language_info": {
   "codemirror_mode": {
    "name": "ipython",
    "version": 3
   },
   "file_extension": ".py",
   "mimetype": "text/x-python",
   "name": "python",
   "nbconvert_exporter": "python",
   "pygments_lexer": "ipython3",
   "version": "3.9.12"
  }
 },
 "nbformat": 4,
 "nbformat_minor": 5
}
