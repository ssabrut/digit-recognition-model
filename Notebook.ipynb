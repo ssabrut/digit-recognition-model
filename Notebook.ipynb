{
 "cells": [
  {
   "cell_type": "markdown",
   "id": "f266204e",
   "metadata": {},
   "source": [
    "### Setting up GPU memory growth to avoid OOM errors"
   ]
  },
  {
   "cell_type": "code",
   "execution_count": 1,
   "id": "666902e6",
   "metadata": {},
   "outputs": [
    {
     "name": "stdout",
     "output_type": "stream",
     "text": [
      "[PhysicalDevice(name='/physical_device:GPU:0', device_type='GPU')]\n"
     ]
    }
   ],
   "source": [
    "import tensorflow as tf\n",
    "\n",
    "# avoid oom errors by setting GPU memory growth\n",
    "gpus = tf.config.experimental.list_physical_devices('GPU')\n",
    "for gpu in gpus:\n",
    "    tf.config.set_logical_device_configuration(gpu, [tf.config.LogicalDeviceConfiguration(memory_limit=2048)])\n",
    "print(gpus)"
   ]
  },
  {
   "cell_type": "markdown",
   "id": "27d1456b",
   "metadata": {},
   "source": [
    "### Hyperparameters"
   ]
  },
  {
   "cell_type": "code",
   "execution_count": 2,
   "id": "44544402",
   "metadata": {},
   "outputs": [],
   "source": [
    "# hyperparameter for contrastive loss\n",
    "margin = 1\n",
    "\n",
    "# hyperparameter for few-shot learning\n",
    "learning_rate = .001 # initial learning rate\n",
    "meta_step_size = .25 # current learning rate\n",
    "\n",
    "inner_batch_size = 32 # same to batch_size\n",
    "eval_batch_size = 32 # same to batch_size\n",
    "\n",
    "meta_iters = 1000 # same to epoch\n",
    "eval_iters = 5\n",
    "inner_iters = 4\n",
    "\n",
    "eval_interval = 1\n",
    "train_shots = 20 # total image needed per class for training\n",
    "shots = 5 # total image needed per class for validation\n",
    "classes = 10 # total class"
   ]
  },
  {
   "cell_type": "markdown",
   "id": "5ed055b5",
   "metadata": {},
   "source": [
    "### Data Loader"
   ]
  },
  {
   "cell_type": "code",
   "execution_count": 3,
   "id": "8dbfef3f",
   "metadata": {},
   "outputs": [],
   "source": [
    "class DataLoader:\n",
    "    \"\"\"Facilitate the creation of few-shot dataset.\n",
    "    \n",
    "    Argument:\n",
    "        training: Boolean, telling wether dataset is used for training or testing\n",
    "    \"\"\"\n",
    "    \n",
    "    def __init__(self, training):\n",
    "        split = 'train' if training else 'test'\n",
    "        ds = tfds.load('mnist', split=split, as_supervised=True, shuffle_files=False)\n",
    "        self.data = {}\n",
    "    \n",
    "        def extract(image, label):\n",
    "            \"\"\"Preprocess the dataset.\n",
    "            \n",
    "            Argument:\n",
    "                image: vector containing image array\n",
    "                label: vector containing label array\n",
    "            \n",
    "            Return:\n",
    "                image: preprocessed vector containing image array\n",
    "                label: vector containing label array\n",
    "            \"\"\"\n",
    "            \n",
    "            image = tf.image.convert_image_dtype(image, tf.float32)\n",
    "            image = tf.image.resize(image, [28,28])\n",
    "            return image, label\n",
    "        \n",
    "        for image, label in ds.map(extract):\n",
    "            image = image.numpy()\n",
    "            label = str(label.numpy())\n",
    "            \n",
    "            # check if label exist in self.data, if not exist create new keys\n",
    "            if label not in self.data:\n",
    "                self.data[label] = []\n",
    "            self.data[label].append(image)\n",
    "        self.labels = list(self.data.keys())\n",
    "    \n",
    "    def get_mini_dataset(self, batch_size, repetitions, shots, num_classes, split=False):\n",
    "        \"\"\"Create mini batch dataset for few-shot learning\n",
    "        \n",
    "        Argument:\n",
    "            batch_size: total images passed in 1 batch\n",
    "            repetitions: total iterations in evaluation\n",
    "            shots: total of image will be trained\n",
    "            num_classes: total classes\n",
    "        \n",
    "        Return:\n",
    "            dataset: tensorflow.Dataset containing image and label\n",
    "        \"\"\"\n",
    "        \n",
    "        temp_labels = np.zeros(shape=(num_classes * shots))\n",
    "        temp_images = np.zeros(shape=(num_classes * shots, 28, 28, 1))\n",
    "        if split:\n",
    "            test_labels = np.zeros(shape=(num_classes))\n",
    "            test_images = np.zeros(shape=(num_classes, 28, 28, 1))\n",
    "        \n",
    "        # get random subset of label\n",
    "        label_subset = random.choices(self.labels, k=num_classes)\n",
    "        for idx, label in enumerate(label_subset):\n",
    "            # use enumerated index value as temporary label for mini-batch\n",
    "            temp_labels[idx * shots:(idx + 1) * shots] = idx\n",
    "            \n",
    "            # if creating split dataset for testing, select extra sample from each label\n",
    "            if split:\n",
    "                test_labels[idx] = idx\n",
    "                images_to_split = random.choices(self.data[label_subset[idx]], k=shots + 1)\n",
    "                test_images[idx] = images_to_split[-1]\n",
    "                temp_images[idx * shots:(idx + 1) * shots] = images_to_split[:-1]\n",
    "            else:\n",
    "                # randomly select label_subset\n",
    "                temp_images[idx * shots:(idx + 1) * shots] = random.choices(self.data[label_subset[idx]], k=shots)\n",
    "        \n",
    "        dataset = tf.data.Dataset.from_tensor_slices(\n",
    "            (temp_images.astype(np.float32), temp_labels.astype(np.int32))\n",
    "        )\n",
    "        dataset = dataset.shuffle(100).batch(batch_size).repeat(repetitions)\n",
    "        if split:\n",
    "            return dataset, test_images, test_labels\n",
    "        return dataset"
   ]
  },
  {
   "cell_type": "code",
   "execution_count": 4,
   "id": "537b906d",
   "metadata": {
    "scrolled": false
   },
   "outputs": [],
   "source": [
    "import numpy as np\n",
    "import random\n",
    "import tensorflow_datasets as tfds\n",
    "import urllib3\n",
    "\n",
    "urllib3.disable_warnings()\n",
    "train_ds = DataLoader(training=True)\n",
    "test_ds = DataLoader(training=False)"
   ]
  },
  {
   "cell_type": "markdown",
   "id": "e6991a0a",
   "metadata": {},
   "source": [
    "### Visualize the Data"
   ]
  },
  {
   "cell_type": "code",
   "execution_count": 5,
   "id": "cb28b4f9",
   "metadata": {},
   "outputs": [
    {
     "data": {
      "image/png": "[encoded data removed]",
      "text/plain": [
       "<Figure size 1440x1440 with 25 Axes>"
      ]
     },
     "metadata": {
      "needs_background": "light"
     },
     "output_type": "display_data"
    }
   ],
   "source": [
    "from matplotlib import pyplot as plt\n",
    "\n",
    "_, axs = plt.subplots(5,5, figsize=(20,20))\n",
    "sample_keys = list(train_ds.data.keys())\n",
    "\n",
    "for i in range(5):\n",
    "    for j in range(5):\n",
    "        temp_image = train_ds.data[sample_keys[i]][j]\n",
    "        temp_image = np.stack((temp_image[:,:,0],) * 3, axis=2)\n",
    "        temp_image *= 255\n",
    "        temp_image = np.clip(temp_image, 0, 255).astype('uint8')\n",
    "        if j == 2:\n",
    "            axs[i,j].set_title('Class: ' + sample_keys[i])\n",
    "        axs[i,j].imshow(temp_image, cmap='gray')\n",
    "        axs[i,j].xaxis.set_visible(False)\n",
    "        axs[i,j].yaxis.set_visible(False)\n",
    "plt.show()"
   ]
  },
  {
   "cell_type": "markdown",
   "id": "5a863413",
   "metadata": {},
   "source": [
    "### Splitting Data"
   ]
  },
  {
   "cell_type": "code",
   "execution_count": 6,
   "id": "be4ed202",
   "metadata": {},
   "outputs": [],
   "source": [
    "train = train_ds.get_mini_dataset(inner_batch_size, inner_iters, train_shots, classes)"
   ]
  },
  {
   "cell_type": "code",
   "execution_count": 7,
   "id": "5649e5b9",
   "metadata": {},
   "outputs": [],
   "source": [
    "def tensor_to_array(train):\n",
    "    train_images, train_labels = [], []\n",
    "    for images, labels in train:\n",
    "        for image in images:\n",
    "            train_images.append(image.numpy())\n",
    "\n",
    "        for label in labels:\n",
    "            train_labels.append(label.numpy())\n",
    "    return np.array(train_images), np.array(train_labels)"
   ]
  },
  {
   "cell_type": "code",
   "execution_count": 8,
   "id": "11ac66a9",
   "metadata": {
    "scrolled": false
   },
   "outputs": [],
   "source": [
    "train_images, train_labels = tensor_to_array(train)"
   ]
  },
  {
   "cell_type": "code",
   "execution_count": 9,
   "id": "2bf16887",
   "metadata": {},
   "outputs": [
    {
     "name": "stdout",
     "output_type": "stream",
     "text": [
      "Total image for training: 800\n",
      "Total label for training: 800\n"
     ]
    }
   ],
   "source": [
    "print('Total image for training:', len(train_images))\n",
    "print('Total label for training:', len(train_labels))"
   ]
  },
  {
   "cell_type": "markdown",
   "id": "755805b1",
   "metadata": {},
   "source": [
    "### Create Image Pair\n",
    "\n",
    "Siamese Networks are neural networks which share weights between two or more sister networks, each producing embedding vectors of its respective inputs.\n",
    "\n",
    "In supervised similarity learning, the networks are then trained to maximize the contrast (distance) between embeddings of inputs of different classes, while minimizing the distance between embeddings of similar classes, resulting in embedding spaces that reflect the class segmentation of the training inputs.\n",
    "\n",
    "We will train the model to differentiate between digits of different classes. For example, digit 0 needs to be differentiated from the rest of the digits (1 through 9), digit 1 - from 0 and 2 through 9, and so on. To carry this out, we will select N random images from class A (for example, for digit 0) and pair them with N random images from another class B (for example, for digit 1). Then, we can repeat this process for all classes of digits (until digit 9). Once we have paired digit 0 with other digits, we can repeat this process for the remaining classes for the rest of the digits (from 1 until 9)."
   ]
  },
  {
   "cell_type": "code",
   "execution_count": 10,
   "id": "d56534a4",
   "metadata": {},
   "outputs": [],
   "source": [
    "def make_pairs(x, y):\n",
    "    \"\"\"Creates a tuple containing image pairs with corresponding label.\n",
    "\n",
    "    Arguments:\n",
    "        x: List containing images, each index in this list corresponds to one image.\n",
    "        y: List containing labels, each label with datatype of `int`.\n",
    "\n",
    "    Returns:\n",
    "        Tuple containing two numpy arrays as (pairs_of_samples, labels),\n",
    "        where pairs_of_samples' shape is (2len(x), 2,n_features_dims) and\n",
    "        labels are a binary array of shape (2len(x)).\n",
    "    \"\"\"\n",
    "    \n",
    "    n_classes = max(y) + 1\n",
    "    digit_indices = [np.where(y == i)[0] for i in range(n_classes)]\n",
    "    \n",
    "    pairs, labels = [], []\n",
    "    for i in range(len(x)):\n",
    "        # add matching example\n",
    "        x1 = x[i]\n",
    "        label1 = y[i]\n",
    "        idx = random.choice(digit_indices[label1])\n",
    "        x2 = x[idx]\n",
    "        \n",
    "        pairs += [[x1, x2]]\n",
    "        labels += [1]\n",
    "        \n",
    "        # add non matching example\n",
    "        label2 = random.randint(0, n_classes - 1)\n",
    "        while label2 == label1:\n",
    "            label2 = random.randint(0, n_classes - 1)\n",
    "        \n",
    "        idx2 = random.choice(digit_indices[label2])\n",
    "        x2 = x[idx2]\n",
    "        \n",
    "        pairs += [[x1, x2]]\n",
    "        labels += [0]\n",
    "    return np.array(pairs), np.array(labels).astype('float32')"
   ]
  },
  {
   "cell_type": "code",
   "execution_count": 11,
   "id": "394a8c80",
   "metadata": {},
   "outputs": [],
   "source": [
    "import numpy as np\n",
    "import random\n",
    "\n",
    "# make train pairs\n",
    "pairs_train, labels_train = make_pairs(train_images, train_labels)"
   ]
  },
  {
   "cell_type": "code",
   "execution_count": 12,
   "id": "1c3ad223",
   "metadata": {},
   "outputs": [],
   "source": [
    "# split training pairs\n",
    "X_train_1 = pairs_train[:, 0]\n",
    "X_train_2 = pairs_train[:, 1]"
   ]
  },
  {
   "cell_type": "markdown",
   "id": "2c41f50b",
   "metadata": {},
   "source": [
    "### Visualize the Pairs and Labels"
   ]
  },
  {
   "cell_type": "code",
   "execution_count": 13,
   "id": "d7d87751",
   "metadata": {},
   "outputs": [],
   "source": [
    "def visualize(pairs, labels, to_show=6, num_col=3, predictions=None, test=False):\n",
    "    \"\"\"Creates a plot of pairs and labels, and prediction if it's test dataset.\n",
    "\n",
    "    Arguments:\n",
    "        pairs: Numpy Array, of pairs to visualize, having shape\n",
    "               (Number of pairs, 2, 28, 28).\n",
    "        to_show: Int, number of examples to visualize (default is 6)\n",
    "                `to_show` must be an integral multiple of `num_col`.\n",
    "                 Otherwise it will be trimmed if it is greater than num_col,\n",
    "                 and incremented if if it is less then num_col.\n",
    "        num_col: Int, number of images in one row - (default is 3)\n",
    "                 For test and train respectively, it should not exceed 3 and 7.\n",
    "        predictions: Numpy Array of predictions with shape (to_show, 1) -\n",
    "                     (default is None)\n",
    "                     Must be passed when test=True.\n",
    "        test: Boolean telling whether the dataset being visualized is\n",
    "              train dataset or test dataset - (default False).\n",
    "\n",
    "    Returns:\n",
    "        None.\n",
    "    \"\"\"\n",
    "\n",
    "    num_row = to_show // num_col if to_show // num_col != 0 else 1\n",
    "    to_show = num_row * num_col\n",
    "\n",
    "    fig, axs = plt.subplots(num_row, num_col, figsize=(5,5))\n",
    "    for i in range(to_show):\n",
    "        if num_row == 1:\n",
    "            ax = axs[i % num_col]\n",
    "        else:\n",
    "            ax = axs[i // num_col, i % num_col]\n",
    "\n",
    "        ax.imshow(tf.concat([pairs[i][0], pairs[i][1]], axis=1), cmap='gray')\n",
    "        ax.set_axis_off()\n",
    "        if test:\n",
    "            ax.set_title(\"Similary: {} | Distance: {:.5f}\".format(labels[i], predictions[i][0]))\n",
    "        else:\n",
    "            ax.set_title(\"Similar: {}\".format(labels[i]))\n",
    "    if test:\n",
    "        plt.tight_layout(rect=(0, 0, 1.9, 1.9), w_pad=0.0)\n",
    "    else:\n",
    "        plt.tight_layout(rect=(0, 0, 1.5, 1.5))\n",
    "    plt.show()"
   ]
  },
  {
   "cell_type": "code",
   "execution_count": 14,
   "id": "6b949db9",
   "metadata": {},
   "outputs": [
    {
     "data": {
      "image/png": "[encoded data removed]",
      "text/plain": [
       "<Figure size 360x360 with 4 Axes>"
      ]
     },
     "metadata": {
      "needs_background": "light"
     },
     "output_type": "display_data"
    }
   ],
   "source": [
    "from matplotlib import pyplot as plt\n",
    "\n",
    "visualize(pairs_train[:-1], labels_train[:-1], to_show=4, num_col=4)"
   ]
  },
  {
   "cell_type": "markdown",
   "id": "94f9426e",
   "metadata": {},
   "source": [
    "### Define the Model\n",
    "\n",
    "There are two input layers, each leading to its own network, which produces embeddings. A Lambda layer then merges them using an Euclidean distance and the merged output is fed to the final network."
   ]
  },
  {
   "cell_type": "code",
   "execution_count": 15,
   "id": "3ef9b01d",
   "metadata": {},
   "outputs": [],
   "source": [
    "def euclidean_distance(vec):\n",
    "    \"\"\"Find the Euclidean distance between two vectors.\n",
    "\n",
    "    Arguments:\n",
    "        vects: List containing two tensors of same length.\n",
    "\n",
    "    Returns:\n",
    "        Tensor containing euclidean distance\n",
    "        (as floating point value) between vectors.\n",
    "    \"\"\"\n",
    "\n",
    "    x, y = vec\n",
    "    sum_square = tf.math.reduce_sum(tf.math.square(x - y), axis=1, keepdims=True)\n",
    "    return tf.math.sqrt(tf.math.maximum(sum_square, tf.keras.backend.epsilon()))"
   ]
  },
  {
   "cell_type": "code",
   "execution_count": 16,
   "id": "ab214c2f",
   "metadata": {},
   "outputs": [],
   "source": [
    "def contrastive_loss(y_true, y_pred, margin=1):\n",
    "    \"\"\"Calculates the constrastive loss.\n",
    "\n",
    "    Arguments:\n",
    "        y_true: List of labels, each label is of type float32.\n",
    "        y_pred: List of predictions of same length as of y_true,\n",
    "                each label is of type float32.\n",
    "\n",
    "    Returns:\n",
    "        A tensor containing constrastive loss as floating point value.\n",
    "    \"\"\"\n",
    "\n",
    "    square_pred = tf.math.square(y_pred)\n",
    "    margin_square = tf.math.square(tf.math.maximum(margin - (y_pred), 0))\n",
    "    return tf.math.reduce_mean((1 - y_true) * square_pred + (y_true) * margin_square)"
   ]
  },
  {
   "cell_type": "code",
   "execution_count": 17,
   "id": "8130d500",
   "metadata": {},
   "outputs": [],
   "source": [
    "from keras import layers\n",
    "from keras import Model\n",
    "from tensorflow import keras\n",
    "\n",
    "with tf.device('/GPU:0'):\n",
    "    # define base model\n",
    "    input = layers.Input((28,28,1))\n",
    "    x = layers.BatchNormalization()(input)\n",
    "    x = layers.Conv2D(4, (5,5), activation='tanh')(x)\n",
    "    x = layers.AveragePooling2D(2)(x)\n",
    "    x = layers.Conv2D(16, (5,5), activation='tanh')(x)\n",
    "    x = layers.AveragePooling2D(2)(x)\n",
    "    x = layers.Flatten()(x)\n",
    "    x = layers.BatchNormalization()(x)\n",
    "    x = layers.Dense(10, activation='tanh')(x)\n",
    "    model = Model(input, x)\n",
    "\n",
    "    # define input layer for siamese network\n",
    "    input_1 = layers.Input((28,28,1))\n",
    "    input_2 = layers.Input((28,28,1))\n",
    "\n",
    "    # create twins network\n",
    "    model1 = model(input_1)\n",
    "    model2 = model(input_2)\n",
    "\n",
    "    # merge the \n",
    "    merge_layer = layers.Lambda(euclidean_distance)([model1, model2])\n",
    "    normal_layer = layers.BatchNormalization()(merge_layer)\n",
    "    output = layers.Dense(1, activation='sigmoid')(normal_layer)\n",
    "    siamese = keras.Model(inputs=[input_1, input_2], outputs=output)\n",
    "    siamese.compile()"
   ]
  },
  {
   "cell_type": "code",
   "execution_count": 18,
   "id": "67401fe5",
   "metadata": {
    "scrolled": false
   },
   "outputs": [
    {
     "name": "stdout",
     "output_type": "stream",
     "text": [
      "Model: \"model_1\"\n",
      "__________________________________________________________________________________________________\n",
      " Layer (type)                   Output Shape         Param #     Connected to                     \n",
      "==================================================================================================\n",
      " input_2 (InputLayer)           [(None, 28, 28, 1)]  0           []                               \n",
      "                                                                                                  \n",
      " input_3 (InputLayer)           [(None, 28, 28, 1)]  0           []                               \n",
      "                                                                                                  \n",
      " model (Functional)             (None, 10)           5318        ['input_2[0][0]',                \n",
      "                                                                  'input_3[0][0]']                \n",
      "                                                                                                  \n",
      " lambda (Lambda)                (None, 1)            0           ['model[0][0]',                  \n",
      "                                                                  'model[1][0]']                  \n",
      "                                                                                                  \n",
      " batch_normalization_2 (BatchNo  (None, 1)           4           ['lambda[0][0]']                 \n",
      " rmalization)                                                                                     \n",
      "                                                                                                  \n",
      " dense_1 (Dense)                (None, 1)            2           ['batch_normalization_2[0][0]']  \n",
      "                                                                                                  \n",
      "==================================================================================================\n",
      "Total params: 5,324\n",
      "Trainable params: 4,808\n",
      "Non-trainable params: 516\n",
      "__________________________________________________________________________________________________\n"
     ]
    }
   ],
   "source": [
    "siamese.summary()"
   ]
  },
  {
   "cell_type": "code",
   "execution_count": 19,
   "id": "5dd0d37b",
   "metadata": {
    "scrolled": false
   },
   "outputs": [
    {
     "data": {
      "image/png": "[encoded data removed]",
      "text/plain": [
       "<IPython.core.display.Image object>"
      ]
     },
     "execution_count": 19,
     "metadata": {},
     "output_type": "execute_result"
    }
   ],
   "source": [
    "from keras.utils import plot_model\n",
    "\n",
    "plot_model(siamese)"
   ]
  },
  {
   "cell_type": "markdown",
   "id": "9f29d45d",
   "metadata": {},
   "source": [
    "### Train the Model"
   ]
  },
  {
   "cell_type": "code",
   "execution_count": 20,
   "id": "5c2afe33",
   "metadata": {},
   "outputs": [],
   "source": [
    "def train_step(mini_dataset):\n",
    "    \"\"\"Create a custom training step\n",
    "    \n",
    "    Argument:\n",
    "        mini_dataset: dataset from data loader contains image and labels\n",
    "    \n",
    "    Return:\n",
    "        None\n",
    "    \n",
    "    \"\"\"\n",
    "    \n",
    "    images, labels = tensor_to_array(mini_dataset)\n",
    "    \n",
    "    # make train pairs\n",
    "    pairs_train, labels_train = make_pairs(train_images, train_labels)\n",
    "    \n",
    "    # split training pairs\n",
    "    X_train_1 = pairs_train[:, 0]\n",
    "    X_train_2 = pairs_train[:, 1]\n",
    "    \n",
    "    with tf.GradientTape() as tape:\n",
    "        preds = siamese([X_train_1, X_train_2])\n",
    "        loss = contrastive_loss(labels_train, preds, margin=margin)\n",
    "    grads = tape.gradient(loss, siamese.trainable_weights)\n",
    "    optimizer.apply_gradients(zip(grads, siamese.trainable_weights))"
   ]
  },
  {
   "cell_type": "code",
   "execution_count": 21,
   "id": "6cc4a66e",
   "metadata": {
    "scrolled": false
   },
   "outputs": [
    {
     "name": "stdout",
     "output_type": "stream",
     "text": [
      "Batch 0/1000\n",
      "Batch 100/1000\n",
      "Batch 200/1000\n",
      "Batch 300/1000\n",
      "Batch 400/1000\n",
      "Batch 500/1000\n",
      "Batch 600/1000\n",
      "Batch 700/1000\n",
      "Batch 800/1000\n",
      "Batch 900/1000\n"
     ]
    }
   ],
   "source": [
    "training = []\n",
    "validation = []\n",
    "optimizer = tf.keras.optimizers.SGD(learning_rate=learning_rate)\n",
    "\n",
    "for meta_iter in range(meta_iters):\n",
    "    frac_done = meta_iter / meta_iters\n",
    "    cur_meta_step_size = (1 - frac_done) * meta_step_size\n",
    "    \n",
    "    # temporarily save model weiths\n",
    "    old_weights = siamese.get_weights()\n",
    "    \n",
    "    # get sample from dataset\n",
    "    mini_dataset = train_ds.get_mini_dataset(\n",
    "        inner_batch_size, inner_iters, train_shots, classes\n",
    "    )\n",
    "    \n",
    "    train_step(mini_dataset)\n",
    "    new_weights = siamese.get_weights()\n",
    "    \n",
    "    # perform sgd for meta step\n",
    "    for weight in range(len(new_weights)):\n",
    "        new_weights[weight] = old_weights[weight] + ((new_weights[weight] - old_weights[weight]) * cur_meta_step_size)\n",
    "    \n",
    "    # after meta learning step, reload the weight\n",
    "    siamese.set_weights(new_weights)\n",
    "    if meta_iter % 100 == 0:\n",
    "        print('Batch %d/%d' % (meta_iter, meta_iters))"
   ]
  },
  {
   "cell_type": "markdown",
   "id": "cdd6f0cd",
   "metadata": {},
   "source": [
    "### Create Testing Data"
   ]
  },
  {
   "cell_type": "code",
   "execution_count": 22,
   "id": "701d5260",
   "metadata": {},
   "outputs": [],
   "source": [
    "test = test_ds.get_mini_dataset(eval_batch_size, eval_iters, shots, classes)"
   ]
  },
  {
   "cell_type": "code",
   "execution_count": 23,
   "id": "678b94f1",
   "metadata": {},
   "outputs": [],
   "source": [
    "test_images, test_labels = tensor_to_array(test)"
   ]
  },
  {
   "cell_type": "code",
   "execution_count": 24,
   "id": "c860d97d",
   "metadata": {},
   "outputs": [
    {
     "name": "stdout",
     "output_type": "stream",
     "text": [
      "Total image for testing: 250\n",
      "Total label for testing: 250\n"
     ]
    }
   ],
   "source": [
    "print('Total image for testing:', len(test_images))\n",
    "print('Total label for testing:', len(test_images))"
   ]
  },
  {
   "cell_type": "code",
   "execution_count": 25,
   "id": "92f3774e",
   "metadata": {},
   "outputs": [],
   "source": [
    "# make test pairs\n",
    "pairs_test, labels_test = make_pairs(test_images, test_labels)"
   ]
  },
  {
   "cell_type": "code",
   "execution_count": 26,
   "id": "b0ac83f6",
   "metadata": {},
   "outputs": [],
   "source": [
    "# split testing pairs\n",
    "X_test_1 = pairs_test[:, 0]\n",
    "X_test_2 = pairs_test[:, 1]"
   ]
  },
  {
   "cell_type": "code",
   "execution_count": 27,
   "id": "88195fba",
   "metadata": {},
   "outputs": [
    {
     "data": {
      "image/png": "[encoded data removed]",
      "text/plain": [
       "<Figure size 360x360 with 4 Axes>"
      ]
     },
     "metadata": {
      "needs_background": "light"
     },
     "output_type": "display_data"
    }
   ],
   "source": [
    "visualize(pairs_test[:-1], labels_test[:-1], to_show=4, num_col=4)"
   ]
  },
  {
   "cell_type": "code",
   "execution_count": 28,
   "id": "a1ca6ef7",
   "metadata": {},
   "outputs": [
    {
     "name": "stdout",
     "output_type": "stream",
     "text": [
      "16/16 [==============================] - 1s 6ms/step\n"
     ]
    },
    {
     "data": {
      "image/png": "[encoded data removed]",
      "text/plain": [
       "<Figure size 360x360 with 3 Axes>"
      ]
     },
     "metadata": {
      "needs_background": "light"
     },
     "output_type": "display_data"
    }
   ],
   "source": [
    "predictions = siamese.predict([X_test_1, X_test_2])\n",
    "visualize(pairs_test, labels_test, to_show=5, predictions=predictions, test=True)"
   ]
  }
 ],
 "metadata": {
  "kernelspec": {
   "display_name": "Python 3 (ipykernel)",
   "language": "python",
   "name": "python3"
  },
  "language_info": {
   "codemirror_mode": {
    "name": "ipython",
    "version": 3
   },
   "file_extension": ".py",
   "mimetype": "text/x-python",
   "name": "python",
   "nbconvert_exporter": "python",
   "pygments_lexer": "ipython3",
   "version": "3.9.12"
  }
 },
 "nbformat": 4,
 "nbformat_minor": 5
}
