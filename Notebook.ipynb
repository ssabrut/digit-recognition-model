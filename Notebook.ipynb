{
 "cells": [
  {
   "cell_type": "markdown",
   "id": "f266204e",
   "metadata": {},
   "source": [
    "### Setting up GPU memory growth to avoid OOM errors"
   ]
  },
  {
   "cell_type": "code",
   "execution_count": 1,
   "id": "666902e6",
   "metadata": {},
   "outputs": [
    {
     "name": "stdout",
     "output_type": "stream",
     "text": [
      "[PhysicalDevice(name='/physical_device:GPU:0', device_type='GPU')]\n"
     ]
    }
   ],
   "source": [
    "import tensorflow as tf\n",
    "\n",
    "# avoid oom errors by setting GPU memory growth\n",
    "gpus = tf.config.experimental.list_physical_devices('GPU')\n",
    "for gpu in gpus:\n",
    "    tf.config.set_logical_device_configuration(gpu, [tf.config.LogicalDeviceConfiguration(memory_limit=2048)])\n",
    "print(gpus)"
   ]
  },
  {
   "cell_type": "markdown",
   "id": "6e5c0e6f",
   "metadata": {},
   "source": [
    "### Hyperparameters"
   ]
  },
  {
   "cell_type": "code",
   "execution_count": 2,
   "id": "00d488d9",
   "metadata": {},
   "outputs": [],
   "source": [
    "epochs = 10\n",
    "batch_size = 16\n",
    "margin = 1 # margin for contrastive loss"
   ]
  },
  {
   "cell_type": "markdown",
   "id": "0f298a9b",
   "metadata": {},
   "source": [
    "### Data Loading"
   ]
  },
  {
   "cell_type": "code",
   "execution_count": 3,
   "id": "bac65d18",
   "metadata": {},
   "outputs": [],
   "source": [
    "from tensorflow import keras\n",
    "\n",
    "(image_train, label_train), (image_test, label_test) = keras.datasets.mnist.load_data()"
   ]
  },
  {
   "cell_type": "code",
   "execution_count": 4,
   "id": "c84f9c50",
   "metadata": {},
   "outputs": [],
   "source": [
    "image_train = image_train.astype('float32')\n",
    "image_test = image_test.astype('float32')"
   ]
  },
  {
   "cell_type": "markdown",
   "id": "178262b5",
   "metadata": {},
   "source": [
    "### Normalize Data"
   ]
  },
  {
   "cell_type": "code",
   "execution_count": 5,
   "id": "bb3c1af2",
   "metadata": {},
   "outputs": [],
   "source": [
    "image_train = image_train / 255.0\n",
    "image_test = image_test / 255.0"
   ]
  },
  {
   "cell_type": "markdown",
   "id": "a8088f53",
   "metadata": {},
   "source": [
    "### Splitting Data"
   ]
  },
  {
   "cell_type": "code",
   "execution_count": 6,
   "id": "68a04351",
   "metadata": {},
   "outputs": [],
   "source": [
    "X_train, X_val = image_train[:30000], image_train[30000:]\n",
    "y_train, y_val = label_train[:30000], label_train[30000:]\n",
    "del image_train, label_train"
   ]
  },
  {
   "cell_type": "code",
   "execution_count": 7,
   "id": "0fd3cb54",
   "metadata": {},
   "outputs": [
    {
     "name": "stdout",
     "output_type": "stream",
     "text": [
      "Total image for training: 30000\n",
      "Total image for validation: 30000\n"
     ]
    }
   ],
   "source": [
    "print('Total image for training:', len(X_train))\n",
    "print('Total image for validation:', len(X_val))"
   ]
  },
  {
   "cell_type": "code",
   "execution_count": 8,
   "id": "4394e4e1",
   "metadata": {},
   "outputs": [
    {
     "name": "stdout",
     "output_type": "stream",
     "text": [
      "Total label for training: 30000\n",
      "Total label for validation: 30000\n"
     ]
    }
   ],
   "source": [
    "print('Total label for training:', len(y_train))\n",
    "print('Total label for validation:', len(y_val))"
   ]
  },
  {
   "cell_type": "markdown",
   "id": "d929081c",
   "metadata": {},
   "source": [
    "### Create Image Pair\n",
    "\n",
    "Siamese Networks are neural networks which share weights between two or more sister networks, each producing embedding vectors of its respective inputs.\n",
    "\n",
    "In supervised similarity learning, the networks are then trained to maximize the contrast (distance) between embeddings of inputs of different classes, while minimizing the distance between embeddings of similar classes, resulting in embedding spaces that reflect the class segmentation of the training inputs.\n",
    "\n",
    "We will train the model to differentiate between digits of different classes. For example, digit 0 needs to be differentiated from the rest of the digits (1 through 9), digit 1 - from 0 and 2 through 9, and so on. To carry this out, we will select N random images from class A (for example, for digit 0) and pair them with N random images from another class B (for example, for digit 1). Then, we can repeat this process for all classes of digits (until digit 9). Once we have paired digit 0 with other digits, we can repeat this process for the remaining classes for the rest of the digits (from 1 until 9)."
   ]
  },
  {
   "cell_type": "code",
   "execution_count": 9,
   "id": "d774402a",
   "metadata": {},
   "outputs": [],
   "source": [
    "def make_pairs(x, y):\n",
    "    \"\"\"Creates a tuple containing image pairs with corresponding label.\n",
    "\n",
    "    Arguments:\n",
    "        x: List containing images, each index in this list corresponds to one image.\n",
    "        y: List containing labels, each label with datatype of `int`.\n",
    "\n",
    "    Returns:\n",
    "        Tuple containing two numpy arrays as (pairs_of_samples, labels),\n",
    "        where pairs_of_samples' shape is (2len(x), 2,n_features_dims) and\n",
    "        labels are a binary array of shape (2len(x)).\n",
    "    \"\"\"\n",
    "    \n",
    "    n_classes = max(y) + 1\n",
    "    digit_indices = [np.where(y == i)[0] for i in range(n_classes)]\n",
    "    \n",
    "    pairs, labels = [], []\n",
    "    for i in range(len(x)):\n",
    "        # add matching example\n",
    "        x1 = x[i]\n",
    "        label1 = y[i]\n",
    "        idx = random.choice(digit_indices[label1])\n",
    "        x2 = x[idx]\n",
    "        \n",
    "        pairs += [[x1, x2]]\n",
    "        labels += [1]\n",
    "        \n",
    "        # add non matching example\n",
    "        label2 = random.randint(0, n_classes - 1)\n",
    "        while label2 == label1:\n",
    "            label2 = random.randint(0, n_classes - 1)\n",
    "        \n",
    "        idx2 = random.choice(digit_indices[label2])\n",
    "        x2 = x[idx2]\n",
    "        \n",
    "        pairs += [[x1, x2]]\n",
    "        labels += [0]\n",
    "    return np.array(pairs), np.array(labels).astype('float32')"
   ]
  },
  {
   "cell_type": "code",
   "execution_count": 10,
   "id": "03dd74c7",
   "metadata": {},
   "outputs": [],
   "source": [
    "import numpy as np\n",
    "import random\n",
    "\n",
    "# make train pairs\n",
    "pairs_train, labels_train = make_pairs(X_train, y_train)\n",
    "\n",
    "# make validation pairs\n",
    "pairs_val, labels_val = make_pairs(X_val, y_val)\n",
    "\n",
    "# make test pairs\n",
    "pairs_test, labels_test = make_pairs(image_test, label_test)"
   ]
  },
  {
   "cell_type": "code",
   "execution_count": 11,
   "id": "baf62299",
   "metadata": {},
   "outputs": [],
   "source": [
    "# split training pairs\n",
    "X_train_1 = pairs_train[:, 0]\n",
    "X_train_2 = pairs_train[:, 1]\n",
    "\n",
    "# split validation pairs\n",
    "X_val_1 = pairs_val[:, 0]\n",
    "X_val_2 = pairs_val[:, 1]\n",
    "\n",
    "# split testing pairs\n",
    "X_test_1 = pairs_test[:, 0]\n",
    "X_test_2 = pairs_test[:, 1]"
   ]
  },
  {
   "cell_type": "markdown",
   "id": "f4e6c150",
   "metadata": {},
   "source": [
    "### Visualize the Pairs and Labels"
   ]
  },
  {
   "cell_type": "code",
   "execution_count": 12,
   "id": "a7b82f63",
   "metadata": {},
   "outputs": [],
   "source": [
    "def visualize(pairs, labels, to_show=6, num_col=3, predictions=None, test=False):\n",
    "    \"\"\"Creates a plot of pairs and labels, and prediction if it's test dataset.\n",
    "\n",
    "    Arguments:\n",
    "        pairs: Numpy Array, of pairs to visualize, having shape\n",
    "               (Number of pairs, 2, 28, 28).\n",
    "        to_show: Int, number of examples to visualize (default is 6)\n",
    "                `to_show` must be an integral multiple of `num_col`.\n",
    "                 Otherwise it will be trimmed if it is greater than num_col,\n",
    "                 and incremented if if it is less then num_col.\n",
    "        num_col: Int, number of images in one row - (default is 3)\n",
    "                 For test and train respectively, it should not exceed 3 and 7.\n",
    "        predictions: Numpy Array of predictions with shape (to_show, 1) -\n",
    "                     (default is None)\n",
    "                     Must be passed when test=True.\n",
    "        test: Boolean telling whether the dataset being visualized is\n",
    "              train dataset or test dataset - (default False).\n",
    "\n",
    "    Returns:\n",
    "        None.\n",
    "    \"\"\"\n",
    "    \n",
    "    num_row = to_show // num_col if to_show // num_col != 0 else 1\n",
    "    to_show = num_row * num_col\n",
    "    \n",
    "    fig, axs = plt.subplots(num_row, num_col, figsize=(5,5))\n",
    "    for i in range(to_show):\n",
    "        if num_row == 1:\n",
    "            ax = axs[i % num_col]\n",
    "        else:\n",
    "            ax = axs[i // num_col, i % num_col]\n",
    "        \n",
    "        ax.imshow(tf.concat([pairs[i][0], pairs[i][1]], axis=1), cmap='gray')\n",
    "        ax.set_axis_off()\n",
    "        if test:\n",
    "            ax.set_title(\"True: {} | Pred: {:.5f}\".format(labels[i], predictions[i][0]))\n",
    "        else:\n",
    "            ax.set_title(\"Label: {}\".format(labels[i]))\n",
    "    if test:\n",
    "        plt.tight_layout(rect=(0, 0, 1.9, 1.9), w_pad=0.0)\n",
    "    else:\n",
    "        plt.tight_layout(rect=(0, 0, 1.5, 1.5))\n",
    "    plt.show()"
   ]
  },
  {
   "cell_type": "code",
   "execution_count": 13,
   "id": "dc2a0577",
   "metadata": {},
   "outputs": [
    {
     "data": {
      "image/png": "[encoded data removed]",
      "text/plain": [
       "<Figure size 360x360 with 4 Axes>"
      ]
     },
     "metadata": {
      "needs_background": "light"
     },
     "output_type": "display_data"
    }
   ],
   "source": [
    "from matplotlib import pyplot as plt\n",
    "\n",
    "visualize(pairs_train[:-1], labels_train[:-1], to_show=4, num_col=4)"
   ]
  },
  {
   "cell_type": "markdown",
   "id": "48f08c83",
   "metadata": {},
   "source": [
    "### Define the Model\n",
    "\n",
    "There are two input layers, each leading to its own network, which produces embeddings. A Lambda layer then merges them using an Euclidean distance and the merged output is fed to the final network."
   ]
  },
  {
   "cell_type": "code",
   "execution_count": 14,
   "id": "29e73026",
   "metadata": {},
   "outputs": [],
   "source": [
    "def euclidean_distance(vec):\n",
    "    \"\"\"Find the Euclidean distance between two vectors.\n",
    "\n",
    "    Arguments:\n",
    "        vects: List containing two tensors of same length.\n",
    "\n",
    "    Returns:\n",
    "        Tensor containing euclidean distance\n",
    "        (as floating point value) between vectors.\n",
    "    \"\"\"\n",
    "    \n",
    "    x, y = vec\n",
    "    sum_square = tf.math.reduce_sum(tf.math.square(x - y), axis=1, keepdims=True)\n",
    "    return tf.math.sqrt(tf.math.maximum(sum_square, tf.keras.backend.epsilon()))"
   ]
  },
  {
   "cell_type": "code",
   "execution_count": 15,
   "id": "e437a9be",
   "metadata": {},
   "outputs": [],
   "source": [
    "def loss(margin=1):\n",
    "    \"\"\"Provides 'constrastive_loss' an enclosing scope with variable 'margin'.\n",
    "\n",
    "    Arguments:\n",
    "        margin: Integer, defines the baseline for distance for which pairs\n",
    "                should be classified as dissimilar. - (default is 1).\n",
    "\n",
    "    Returns:\n",
    "        'constrastive_loss' function with data ('margin') attached.\n",
    "    \"\"\"\n",
    "    \n",
    "    def contrastive_loss(y_true, y_pred):\n",
    "        \"\"\"Calculates the constrastive loss.\n",
    "\n",
    "        Arguments:\n",
    "            y_true: List of labels, each label is of type float32.\n",
    "            y_pred: List of predictions of same length as of y_true,\n",
    "                    each label is of type float32.\n",
    "\n",
    "        Returns:\n",
    "            A tensor containing constrastive loss as floating point value.\n",
    "        \"\"\"\n",
    "        \n",
    "        square_pred = tf.math.square(y_pred)\n",
    "        margin_square = tf.math.square(tf.math.maximum(margin - (y_pred), 0))\n",
    "        return tf.math.reduce_mean((1 - y_true) * square_pred + (y_true) * margin_square)\n",
    "    return contrastive_loss"
   ]
  },
  {
   "cell_type": "code",
   "execution_count": 16,
   "id": "3a370815",
   "metadata": {},
   "outputs": [],
   "source": [
    "from keras import layers\n",
    "from keras import Model\n",
    "\n",
    "with tf.device('/GPU:0'):\n",
    "    # define base model\n",
    "    input = layers.Input((28,28,1))\n",
    "    x = layers.BatchNormalization()(input)\n",
    "    x = layers.Conv2D(4, (5,5), activation='tanh')(x)\n",
    "    x = layers.AveragePooling2D(2)(x)\n",
    "    x = layers.Conv2D(16, (5,5), activation='tanh')(x)\n",
    "    x = layers.AveragePooling2D(2)(x)\n",
    "    x = layers.Flatten()(x)\n",
    "    x = layers.BatchNormalization()(x)\n",
    "    x = layers.Dense(10, activation='tanh')(x)\n",
    "    model = Model(input, x)\n",
    "\n",
    "    # define input layer for siamese network\n",
    "    input_1 = layers.Input((28,28,1))\n",
    "    input_2 = layers.Input((28,28,1))\n",
    "\n",
    "    # create twins network\n",
    "    model1 = model(input_1)\n",
    "    model2 = model(input_2)\n",
    "\n",
    "    # merge the \n",
    "    merge_layer = layers.Lambda(euclidean_distance)([model1, model2])\n",
    "    normal_layer = layers.BatchNormalization()(merge_layer)\n",
    "    output = layers.Dense(1, activation='sigmoid')(normal_layer)\n",
    "    siamese = keras.Model(inputs=[input_1, input_2], outputs=output)\n",
    "    siamese.compile(loss=loss(margin=margin), optimizer='rmsprop', metrics=['accuracy'])"
   ]
  },
  {
   "cell_type": "code",
   "execution_count": 17,
   "id": "2ada3794",
   "metadata": {},
   "outputs": [
    {
     "name": "stdout",
     "output_type": "stream",
     "text": [
      "Model: \"model_1\"\n",
      "__________________________________________________________________________________________________\n",
      " Layer (type)                   Output Shape         Param #     Connected to                     \n",
      "==================================================================================================\n",
      " input_2 (InputLayer)           [(None, 28, 28, 1)]  0           []                               \n",
      "                                                                                                  \n",
      " input_3 (InputLayer)           [(None, 28, 28, 1)]  0           []                               \n",
      "                                                                                                  \n",
      " model (Functional)             (None, 10)           5318        ['input_2[0][0]',                \n",
      "                                                                  'input_3[0][0]']                \n",
      "                                                                                                  \n",
      " lambda (Lambda)                (None, 1)            0           ['model[0][0]',                  \n",
      "                                                                  'model[1][0]']                  \n",
      "                                                                                                  \n",
      " batch_normalization_2 (BatchNo  (None, 1)           4           ['lambda[0][0]']                 \n",
      " rmalization)                                                                                     \n",
      "                                                                                                  \n",
      " dense_1 (Dense)                (None, 1)            2           ['batch_normalization_2[0][0]']  \n",
      "                                                                                                  \n",
      "==================================================================================================\n",
      "Total params: 5,324\n",
      "Trainable params: 4,808\n",
      "Non-trainable params: 516\n",
      "__________________________________________________________________________________________________\n"
     ]
    }
   ],
   "source": [
    "siamese.summary()"
   ]
  },
  {
   "cell_type": "code",
   "execution_count": 18,
   "id": "24dc9f47",
   "metadata": {},
   "outputs": [
    {
     "data": {
      "image/png": "[encoded data removed]",
      "text/plain": [
       "<IPython.core.display.Image object>"
      ]
     },
     "execution_count": 18,
     "metadata": {},
     "output_type": "execute_result"
    }
   ],
   "source": [
    "from keras.utils import plot_model\n",
    "\n",
    "plot_model(siamese)"
   ]
  },
  {
   "cell_type": "code",
   "execution_count": 19,
   "id": "ebc1bc8b",
   "metadata": {
    "scrolled": false
   },
   "outputs": [
    {
     "name": "stdout",
     "output_type": "stream",
     "text": [
      "Epoch 1/10\n",
      "3750/3750 [==============================] - 56s 14ms/step - loss: 0.2186 - accuracy: 0.6304 - val_loss: 0.0559 - val_accuracy: 0.9310\n",
      "Epoch 2/10\n",
      "3750/3750 [==============================] - 49s 13ms/step - loss: 0.0632 - accuracy: 0.9161 - val_loss: 0.0296 - val_accuracy: 0.9618\n",
      "Epoch 3/10\n",
      "3750/3750 [==============================] - 49s 13ms/step - loss: 0.0459 - accuracy: 0.9400 - val_loss: 0.0223 - val_accuracy: 0.9716\n",
      "Epoch 4/10\n",
      "3750/3750 [==============================] - 47s 13ms/step - loss: 0.0381 - accuracy: 0.9507 - val_loss: 0.0187 - val_accuracy: 0.9761\n",
      "Epoch 5/10\n",
      "3750/3750 [==============================] - 48s 13ms/step - loss: 0.0340 - accuracy: 0.9566 - val_loss: 0.0176 - val_accuracy: 0.9776\n",
      "Epoch 6/10\n",
      "3750/3750 [==============================] - 48s 13ms/step - loss: 0.0321 - accuracy: 0.9584 - val_loss: 0.0182 - val_accuracy: 0.9767\n",
      "Epoch 7/10\n",
      "3750/3750 [==============================] - 47s 13ms/step - loss: 0.0305 - accuracy: 0.9607 - val_loss: 0.0165 - val_accuracy: 0.9789\n",
      "Epoch 8/10\n",
      "3750/3750 [==============================] - 47s 13ms/step - loss: 0.0290 - accuracy: 0.9623 - val_loss: 0.0156 - val_accuracy: 0.9804\n",
      "Epoch 9/10\n",
      "3750/3750 [==============================] - 47s 13ms/step - loss: 0.0284 - accuracy: 0.9632 - val_loss: 0.0158 - val_accuracy: 0.9797\n",
      "Epoch 10/10\n",
      "3750/3750 [==============================] - 47s 13ms/step - loss: 0.0278 - accuracy: 0.9645 - val_loss: 0.0186 - val_accuracy: 0.9763\n"
     ]
    }
   ],
   "source": [
    "history = siamese.fit(\n",
    "    [X_train_1, X_train_2],\n",
    "    labels_train,\n",
    "    validation_data=([X_val_1, X_val_2], labels_val),\n",
    "    batch_size=batch_size,\n",
    "    epochs=epochs\n",
    ")"
   ]
  },
  {
   "cell_type": "code",
   "execution_count": 20,
   "id": "eeef0dd2",
   "metadata": {},
   "outputs": [
    {
     "data": {
      "image/png": "[encoded data removed]",
      "text/plain": [
       "<Figure size 432x288 with 1 Axes>"
      ]
     },
     "metadata": {
      "needs_background": "light"
     },
     "output_type": "display_data"
    },
    {
     "data": {
      "image/png": "[encoded data removed]",
      "text/plain": [
       "<Figure size 432x288 with 1 Axes>"
      ]
     },
     "metadata": {
      "needs_background": "light"
     },
     "output_type": "display_data"
    }
   ],
   "source": [
    "def plt_metric(history, metric, title, has_valid=True):\n",
    "    \"\"\"Plots the given 'metric' from 'history'.\n",
    "\n",
    "    Arguments:\n",
    "        history: history attribute of History object returned from Model.fit.\n",
    "        metric: Metric to plot, a string value present as key in 'history'.\n",
    "        title: A string to be used as title of plot.\n",
    "        has_valid: Boolean, true if valid data was passed to Model.fit else false.\n",
    "\n",
    "    Returns:\n",
    "        None.\n",
    "    \"\"\"\n",
    "    plt.plot(history[metric])\n",
    "    if has_valid:\n",
    "        plt.plot(history[\"val_\" + metric])\n",
    "        plt.legend([\"train\", \"validation\"], loc=\"upper left\")\n",
    "    plt.title(title)\n",
    "    plt.ylabel(metric)\n",
    "    plt.xlabel(\"epoch\")\n",
    "    plt.show()\n",
    "\n",
    "\n",
    "# Plot the accuracy\n",
    "plt_metric(history=history.history, metric=\"accuracy\", title=\"Model accuracy\")\n",
    "\n",
    "# Plot the constrastive loss\n",
    "plt_metric(history=history.history, metric=\"loss\", title=\"Constrastive Loss\")"
   ]
  },
  {
   "cell_type": "code",
   "execution_count": 21,
   "id": "778f7794",
   "metadata": {},
   "outputs": [
    {
     "name": "stdout",
     "output_type": "stream",
     "text": [
      "625/625 [==============================] - 3s 4ms/step - loss: 0.0143 - accuracy: 0.9816\n",
      "Test loss, Test Accuracy: [0.014312634244561195, 0.9815999865531921]\n"
     ]
    }
   ],
   "source": [
    "accuracy = siamese.evaluate([X_test_1, X_test_2], labels_test)\n",
    "print('Test loss, Test Accuracy:', accuracy)"
   ]
  },
  {
   "cell_type": "code",
   "execution_count": 23,
   "id": "c3ea8073",
   "metadata": {},
   "outputs": [
    {
     "name": "stdout",
     "output_type": "stream",
     "text": [
      "625/625 [==============================] - 2s 3ms/step\n"
     ]
    },
    {
     "data": {
      "image/png": "[encoded data removed]",
      "text/plain": [
       "<Figure size 360x360 with 3 Axes>"
      ]
     },
     "metadata": {
      "needs_background": "light"
     },
     "output_type": "display_data"
    }
   ],
   "source": [
    "predictions = siamese.predict([X_test_1, X_test_2])\n",
    "visualize(pairs_test, labels_test, to_show=3, predictions=predictions, test=True)"
   ]
  }
 ],
 "metadata": {
  "kernelspec": {
   "display_name": "Python 3 (ipykernel)",
   "language": "python",
   "name": "python3"
  },
  "language_info": {
   "codemirror_mode": {
    "name": "ipython",
    "version": 3
   },
   "file_extension": ".py",
   "mimetype": "text/x-python",
   "name": "python",
   "nbconvert_exporter": "python",
   "pygments_lexer": "ipython3",
   "version": "3.9.12"
  }
 },
 "nbformat": 4,
 "nbformat_minor": 5
}
